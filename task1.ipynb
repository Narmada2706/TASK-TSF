{
  "nbformat": 4,
  "nbformat_minor": 0,
  "metadata": {
    "colab": {
      "name": "task1",
      "provenance": [],
      "collapsed_sections": []
    },
    "kernelspec": {
      "name": "python3",
      "display_name": "Python 3"
    },
    "language_info": {
      "name": "python"
    },
    "accelerator": "GPU"
  },
  "cells": [
    {
      "cell_type": "markdown",
      "metadata": {
        "id": "Cia7TsyEORkF"
      },
      "source": [
        "# Data Science & Business Analytics intern at The Sparks Foundation\n",
        "### Author: Narmada Ugale\n",
        "\n",
        "# Task 1 : Prediction Using Supervised ML\n",
        "\n",
        "# ## Problem Statement : \n",
        "#### **Predict the percentage of an student based on the no. of study hours.**\n",
        "\n",
        "* Algorithm Type: Supervised \n",
        "* Language Used: Python\n",
        "* Algorithm Used: Linear Regression \n",
        "\n",
        "### What is Linear Regression is ?\n",
        "#### LinearRegression, in its simplest form, fits a linear model to the data set by adjusting a set of parameters in order to\n",
        "                       ## make the sum of the squared residuals of the model as small as possible"
      ]
    },
    {
      "cell_type": "markdown",
      "metadata": {
        "id": "5fgqnVb-LM2G"
      },
      "source": [
        "# 1. Importing necessary libraries"
      ]
    },
    {
      "cell_type": "code",
      "metadata": {
        "id": "5xeHfRHQHpnX"
      },
      "source": [
        "import pandas as pd\n",
        "import numpy as np\n",
        "import seaborn as sns\n",
        "sns.set()\n",
        "%matplotlib inline \n",
        "import matplotlib.pyplot as plt\n",
        "from sklearn.linear_model import LinearRegression\n",
        "from sklearn.model_selection import train_test_split"
      ],
      "execution_count": 3,
      "outputs": []
    },
    {
      "cell_type": "code",
      "metadata": {
        "colab": {
          "base_uri": "https://localhost:8080/",
          "height": 370
        },
        "id": "yrWBeWwmH431",
        "outputId": "207be4d9-2601-43e6-aa58-dee91d753b87"
      },
      "source": [
        "# Reading data from remote link\n",
        "url = \"http://bit.ly/w-data\"\n",
        "data_set = pd.read_csv(url)\n",
        "print(\"Data imported successfully\")\n",
        "\n",
        "data_set.head(10)\n"
      ],
      "execution_count": 4,
      "outputs": [
        {
          "output_type": "stream",
          "text": [
            "Data imported successfully\n"
          ],
          "name": "stdout"
        },
        {
          "output_type": "execute_result",
          "data": {
            "text/html": [
              "<div>\n",
              "<style scoped>\n",
              "    .dataframe tbody tr th:only-of-type {\n",
              "        vertical-align: middle;\n",
              "    }\n",
              "\n",
              "    .dataframe tbody tr th {\n",
              "        vertical-align: top;\n",
              "    }\n",
              "\n",
              "    .dataframe thead th {\n",
              "        text-align: right;\n",
              "    }\n",
              "</style>\n",
              "<table border=\"1\" class=\"dataframe\">\n",
              "  <thead>\n",
              "    <tr style=\"text-align: right;\">\n",
              "      <th></th>\n",
              "      <th>Hours</th>\n",
              "      <th>Scores</th>\n",
              "    </tr>\n",
              "  </thead>\n",
              "  <tbody>\n",
              "    <tr>\n",
              "      <th>0</th>\n",
              "      <td>2.5</td>\n",
              "      <td>21</td>\n",
              "    </tr>\n",
              "    <tr>\n",
              "      <th>1</th>\n",
              "      <td>5.1</td>\n",
              "      <td>47</td>\n",
              "    </tr>\n",
              "    <tr>\n",
              "      <th>2</th>\n",
              "      <td>3.2</td>\n",
              "      <td>27</td>\n",
              "    </tr>\n",
              "    <tr>\n",
              "      <th>3</th>\n",
              "      <td>8.5</td>\n",
              "      <td>75</td>\n",
              "    </tr>\n",
              "    <tr>\n",
              "      <th>4</th>\n",
              "      <td>3.5</td>\n",
              "      <td>30</td>\n",
              "    </tr>\n",
              "    <tr>\n",
              "      <th>5</th>\n",
              "      <td>1.5</td>\n",
              "      <td>20</td>\n",
              "    </tr>\n",
              "    <tr>\n",
              "      <th>6</th>\n",
              "      <td>9.2</td>\n",
              "      <td>88</td>\n",
              "    </tr>\n",
              "    <tr>\n",
              "      <th>7</th>\n",
              "      <td>5.5</td>\n",
              "      <td>60</td>\n",
              "    </tr>\n",
              "    <tr>\n",
              "      <th>8</th>\n",
              "      <td>8.3</td>\n",
              "      <td>81</td>\n",
              "    </tr>\n",
              "    <tr>\n",
              "      <th>9</th>\n",
              "      <td>2.7</td>\n",
              "      <td>25</td>\n",
              "    </tr>\n",
              "  </tbody>\n",
              "</table>\n",
              "</div>"
            ],
            "text/plain": [
              "   Hours  Scores\n",
              "0    2.5      21\n",
              "1    5.1      47\n",
              "2    3.2      27\n",
              "3    8.5      75\n",
              "4    3.5      30\n",
              "5    1.5      20\n",
              "6    9.2      88\n",
              "7    5.5      60\n",
              "8    8.3      81\n",
              "9    2.7      25"
            ]
          },
          "metadata": {
            "tags": []
          },
          "execution_count": 4
        }
      ]
    },
    {
      "cell_type": "markdown",
      "metadata": {
        "id": "69XnFnwkKBj4"
      },
      "source": [
        "#Viewing **bottom** 5 Records"
      ]
    },
    {
      "cell_type": "code",
      "metadata": {
        "colab": {
          "base_uri": "https://localhost:8080/",
          "height": 200
        },
        "id": "9Wtpy1ZKJ26D",
        "outputId": "cab7a6e2-702b-4729-a169-a0bd3ab84680"
      },
      "source": [
        "data_set.tail(5)"
      ],
      "execution_count": 5,
      "outputs": [
        {
          "output_type": "execute_result",
          "data": {
            "text/html": [
              "<div>\n",
              "<style scoped>\n",
              "    .dataframe tbody tr th:only-of-type {\n",
              "        vertical-align: middle;\n",
              "    }\n",
              "\n",
              "    .dataframe tbody tr th {\n",
              "        vertical-align: top;\n",
              "    }\n",
              "\n",
              "    .dataframe thead th {\n",
              "        text-align: right;\n",
              "    }\n",
              "</style>\n",
              "<table border=\"1\" class=\"dataframe\">\n",
              "  <thead>\n",
              "    <tr style=\"text-align: right;\">\n",
              "      <th></th>\n",
              "      <th>Hours</th>\n",
              "      <th>Scores</th>\n",
              "    </tr>\n",
              "  </thead>\n",
              "  <tbody>\n",
              "    <tr>\n",
              "      <th>20</th>\n",
              "      <td>2.7</td>\n",
              "      <td>30</td>\n",
              "    </tr>\n",
              "    <tr>\n",
              "      <th>21</th>\n",
              "      <td>4.8</td>\n",
              "      <td>54</td>\n",
              "    </tr>\n",
              "    <tr>\n",
              "      <th>22</th>\n",
              "      <td>3.8</td>\n",
              "      <td>35</td>\n",
              "    </tr>\n",
              "    <tr>\n",
              "      <th>23</th>\n",
              "      <td>6.9</td>\n",
              "      <td>76</td>\n",
              "    </tr>\n",
              "    <tr>\n",
              "      <th>24</th>\n",
              "      <td>7.8</td>\n",
              "      <td>86</td>\n",
              "    </tr>\n",
              "  </tbody>\n",
              "</table>\n",
              "</div>"
            ],
            "text/plain": [
              "    Hours  Scores\n",
              "20    2.7      30\n",
              "21    4.8      54\n",
              "22    3.8      35\n",
              "23    6.9      76\n",
              "24    7.8      86"
            ]
          },
          "metadata": {
            "tags": []
          },
          "execution_count": 5
        }
      ]
    },
    {
      "cell_type": "markdown",
      "metadata": {
        "id": "uT5xpxz3JPg_"
      },
      "source": [
        "#Checking the size of dataset using shape\n",
        "# shape: returns a tuple with each index having the number of corresponding elements."
      ]
    },
    {
      "cell_type": "code",
      "metadata": {
        "colab": {
          "base_uri": "https://localhost:8080/"
        },
        "id": "CFRcWiGmHZr8",
        "outputId": "55bde59a-1e19-4e34-9b9c-53139be1260f"
      },
      "source": [
        "data_set.shape\n",
        "\n"
      ],
      "execution_count": 6,
      "outputs": [
        {
          "output_type": "execute_result",
          "data": {
            "text/plain": [
              "(25, 2)"
            ]
          },
          "metadata": {
            "tags": []
          },
          "execution_count": 6
        }
      ]
    },
    {
      "cell_type": "markdown",
      "metadata": {
        "id": "-P7Y-poLJb51"
      },
      "source": [
        "#checking any null value in dataset\n",
        "\n"
      ]
    },
    {
      "cell_type": "code",
      "metadata": {
        "colab": {
          "base_uri": "https://localhost:8080/"
        },
        "id": "m0H7jTcnJhnk",
        "outputId": "bc1fd19d-0810-4d6f-90d3-38a17442a6c4"
      },
      "source": [
        "data_set.isnull().sum()\n"
      ],
      "execution_count": 7,
      "outputs": [
        {
          "output_type": "execute_result",
          "data": {
            "text/plain": [
              "Hours     0\n",
              "Scores    0\n",
              "dtype: int64"
            ]
          },
          "metadata": {
            "tags": []
          },
          "execution_count": 7
        }
      ]
    },
    {
      "cell_type": "markdown",
      "metadata": {
        "id": "ps_Or4wpNTTN"
      },
      "source": [
        "\n",
        "#Sorting the dataset in Ascending order\n",
        "#sort_values(): Pandas sort_values() function sorts a data frame in Ascending or Descending order of passed Columns."
      ]
    },
    {
      "cell_type": "code",
      "metadata": {
        "colab": {
          "base_uri": "https://localhost:8080/",
          "height": 807
        },
        "id": "XZ3d1emGHPlX",
        "outputId": "15c16abf-b76a-454d-94a1-53318df2bb4a"
      },
      "source": [
        "data_set.sort_values(by=['Scores','Hours'],ascending= True, inplace=False)"
      ],
      "execution_count": 8,
      "outputs": [
        {
          "output_type": "execute_result",
          "data": {
            "text/html": [
              "<div>\n",
              "<style scoped>\n",
              "    .dataframe tbody tr th:only-of-type {\n",
              "        vertical-align: middle;\n",
              "    }\n",
              "\n",
              "    .dataframe tbody tr th {\n",
              "        vertical-align: top;\n",
              "    }\n",
              "\n",
              "    .dataframe thead th {\n",
              "        text-align: right;\n",
              "    }\n",
              "</style>\n",
              "<table border=\"1\" class=\"dataframe\">\n",
              "  <thead>\n",
              "    <tr style=\"text-align: right;\">\n",
              "      <th></th>\n",
              "      <th>Hours</th>\n",
              "      <th>Scores</th>\n",
              "    </tr>\n",
              "  </thead>\n",
              "  <tbody>\n",
              "    <tr>\n",
              "      <th>14</th>\n",
              "      <td>1.1</td>\n",
              "      <td>17</td>\n",
              "    </tr>\n",
              "    <tr>\n",
              "      <th>5</th>\n",
              "      <td>1.5</td>\n",
              "      <td>20</td>\n",
              "    </tr>\n",
              "    <tr>\n",
              "      <th>0</th>\n",
              "      <td>2.5</td>\n",
              "      <td>21</td>\n",
              "    </tr>\n",
              "    <tr>\n",
              "      <th>17</th>\n",
              "      <td>1.9</td>\n",
              "      <td>24</td>\n",
              "    </tr>\n",
              "    <tr>\n",
              "      <th>9</th>\n",
              "      <td>2.7</td>\n",
              "      <td>25</td>\n",
              "    </tr>\n",
              "    <tr>\n",
              "      <th>2</th>\n",
              "      <td>3.2</td>\n",
              "      <td>27</td>\n",
              "    </tr>\n",
              "    <tr>\n",
              "      <th>16</th>\n",
              "      <td>2.5</td>\n",
              "      <td>30</td>\n",
              "    </tr>\n",
              "    <tr>\n",
              "      <th>20</th>\n",
              "      <td>2.7</td>\n",
              "      <td>30</td>\n",
              "    </tr>\n",
              "    <tr>\n",
              "      <th>4</th>\n",
              "      <td>3.5</td>\n",
              "      <td>30</td>\n",
              "    </tr>\n",
              "    <tr>\n",
              "      <th>22</th>\n",
              "      <td>3.8</td>\n",
              "      <td>35</td>\n",
              "    </tr>\n",
              "    <tr>\n",
              "      <th>12</th>\n",
              "      <td>4.5</td>\n",
              "      <td>41</td>\n",
              "    </tr>\n",
              "    <tr>\n",
              "      <th>13</th>\n",
              "      <td>3.3</td>\n",
              "      <td>42</td>\n",
              "    </tr>\n",
              "    <tr>\n",
              "      <th>1</th>\n",
              "      <td>5.1</td>\n",
              "      <td>47</td>\n",
              "    </tr>\n",
              "    <tr>\n",
              "      <th>21</th>\n",
              "      <td>4.8</td>\n",
              "      <td>54</td>\n",
              "    </tr>\n",
              "    <tr>\n",
              "      <th>7</th>\n",
              "      <td>5.5</td>\n",
              "      <td>60</td>\n",
              "    </tr>\n",
              "    <tr>\n",
              "      <th>11</th>\n",
              "      <td>5.9</td>\n",
              "      <td>62</td>\n",
              "    </tr>\n",
              "    <tr>\n",
              "      <th>18</th>\n",
              "      <td>6.1</td>\n",
              "      <td>67</td>\n",
              "    </tr>\n",
              "    <tr>\n",
              "      <th>19</th>\n",
              "      <td>7.4</td>\n",
              "      <td>69</td>\n",
              "    </tr>\n",
              "    <tr>\n",
              "      <th>3</th>\n",
              "      <td>8.5</td>\n",
              "      <td>75</td>\n",
              "    </tr>\n",
              "    <tr>\n",
              "      <th>23</th>\n",
              "      <td>6.9</td>\n",
              "      <td>76</td>\n",
              "    </tr>\n",
              "    <tr>\n",
              "      <th>8</th>\n",
              "      <td>8.3</td>\n",
              "      <td>81</td>\n",
              "    </tr>\n",
              "    <tr>\n",
              "      <th>10</th>\n",
              "      <td>7.7</td>\n",
              "      <td>85</td>\n",
              "    </tr>\n",
              "    <tr>\n",
              "      <th>24</th>\n",
              "      <td>7.8</td>\n",
              "      <td>86</td>\n",
              "    </tr>\n",
              "    <tr>\n",
              "      <th>6</th>\n",
              "      <td>9.2</td>\n",
              "      <td>88</td>\n",
              "    </tr>\n",
              "    <tr>\n",
              "      <th>15</th>\n",
              "      <td>8.9</td>\n",
              "      <td>95</td>\n",
              "    </tr>\n",
              "  </tbody>\n",
              "</table>\n",
              "</div>"
            ],
            "text/plain": [
              "    Hours  Scores\n",
              "14    1.1      17\n",
              "5     1.5      20\n",
              "0     2.5      21\n",
              "17    1.9      24\n",
              "9     2.7      25\n",
              "2     3.2      27\n",
              "16    2.5      30\n",
              "20    2.7      30\n",
              "4     3.5      30\n",
              "22    3.8      35\n",
              "12    4.5      41\n",
              "13    3.3      42\n",
              "1     5.1      47\n",
              "21    4.8      54\n",
              "7     5.5      60\n",
              "11    5.9      62\n",
              "18    6.1      67\n",
              "19    7.4      69\n",
              "3     8.5      75\n",
              "23    6.9      76\n",
              "8     8.3      81\n",
              "10    7.7      85\n",
              "24    7.8      86\n",
              "6     9.2      88\n",
              "15    8.9      95"
            ]
          },
          "metadata": {
            "tags": []
          },
          "execution_count": 8
        }
      ]
    },
    {
      "cell_type": "markdown",
      "metadata": {
        "id": "GFtzlHm3PC67"
      },
      "source": [
        "# 3. Declaring Variable and ploting Scatter plot of Hours vs Scores\n",
        "\n",
        "#storing the values of Hours and scores in x and y"
      ]
    },
    {
      "cell_type": "code",
      "metadata": {
        "colab": {
          "base_uri": "https://localhost:8080/",
          "height": 307
        },
        "id": "eS3mtMBFOwKu",
        "outputId": "1bf570a3-23e9-4441-812a-18c6f6fab8f3"
      },
      "source": [
        "x=data_set['Hours']\n",
        "y=data_set['Scores']\n",
        "\n",
        "#ploting scatter plot of given dataset\n",
        "\n",
        "plt.scatter(x,y,color=\"blue\",marker=\"o\",s=40)\n",
        "plt.title('Data Distribution',fontsize=18)\n",
        "plt.xlabel('Hours',fontsize=16)\n",
        "plt.ylabel('Scores',fontsize=16)\n",
        "plt.show()"
      ],
      "execution_count": 9,
      "outputs": [
        {
          "output_type": "display_data",
          "data": {
            "image/png": "[encoded data removed]",
            "text/plain": [
              "<Figure size 432x288 with 1 Axes>"
            ]
          },
          "metadata": {
            "tags": [],
            "needs_background": "light"
          }
        }
      ]
    },
    {
      "cell_type": "markdown",
      "metadata": {
        "id": "4CrpsC_JQDVF"
      },
      "source": [
        "From the graph above, we can clearly see that there is a positive linear relation between the number of hours studied and percentage of score."
      ]
    },
    {
      "cell_type": "markdown",
      "metadata": {
        "id": "5LOVeByeRQAs"
      },
      "source": [
        "# 5. Plotting Histogram of Score\n",
        "\n",
        "# Plotting histogram of 'Score'"
      ]
    },
    {
      "cell_type": "code",
      "metadata": {
        "colab": {
          "base_uri": "https://localhost:8080/",
          "height": 305
        },
        "id": "wqfKAb87QFBC",
        "outputId": "ba694c01-2bba-4488-a4f2-03bd902246ed"
      },
      "source": [
        "range=(0,100)\n",
        "bins=8\n",
        "plt.hist(y,bins,range,color='red', histtype='barstacked',rwidth=0.8)\n",
        "\n",
        "plt.xlabel('Scores', fontsize= 16)\n",
        "plt.ylabel('No. of Students', fontsize=16)\n",
        "plt.title('Score Distribution',fontsize=16)\n",
        "\n",
        "plt.show()"
      ],
      "execution_count": 10,
      "outputs": [
        {
          "output_type": "display_data",
          "data": {
            "image/png": "[encoded data removed]",
            "text/plain": [
              "<Figure size 432x288 with 1 Axes>"
            ]
          },
          "metadata": {
            "tags": [],
            "needs_background": "light"
          }
        }
      ]
    },
    {
      "cell_type": "markdown",
      "metadata": {
        "id": "1IzXMH8CT4PV"
      },
      "source": [
        "# 6. Plotting Histogram of Hours\n",
        "\n",
        "# Plotting histogram of 'Hours'"
      ]
    },
    {
      "cell_type": "code",
      "metadata": {
        "colab": {
          "base_uri": "https://localhost:8080/",
          "height": 307
        },
        "id": "nCzGQY2OQCkR",
        "outputId": "60838987-1c45-4ac8-d93c-305c3b7e24fc"
      },
      "source": [
        "range=(0,12)\n",
        "bins=8\n",
        "plt.hist(x,bins,range,color='red', histtype='barstacked',rwidth=0.8)\n",
        "\n",
        "plt.xlabel('Hours',fontsize=16)\n",
        "plt.ylabel('No. of Students',fontsize=16)\n",
        "plt.title('Hours Distribution',fontsize=18)\n",
        "\n",
        "plt.show()"
      ],
      "execution_count": 11,
      "outputs": [
        {
          "output_type": "display_data",
          "data": {
            "image/png": "[encoded data removed]",
            "text/plain": [
              "<Figure size 432x288 with 1 Axes>"
            ]
          },
          "metadata": {
            "tags": [],
            "needs_background": "light"
          }
        }
      ]
    },
    {
      "cell_type": "markdown",
      "metadata": {
        "id": "z4w7v-TFXMQr"
      },
      "source": [
        "#As we see in \" Data Distribution \" Graph that there is a Linear Relationship between study Hours and student Score . \n",
        "#So, we can say that Linearity is present in Data and we can apply Linear Regression in it."
      ]
    },
    {
      "cell_type": "markdown",
      "metadata": {
        "id": "p80ABk2wXR6Z"
      },
      "source": [
        "# 7. Reshaping the x and y variable \n",
        "\n",
        "#reshape the x and y variable and storing it into X and Y respectively.\n",
        "# .reshape(): Gives a new shape to an array without changing its data."
      ]
    },
    {
      "cell_type": "code",
      "metadata": {
        "id": "e6i4T34WXnZH"
      },
      "source": [
        "X=x.values.reshape(-1,1)\n",
        "Y=y.values.reshape(-1,1)"
      ],
      "execution_count": 12,
      "outputs": []
    },
    {
      "cell_type": "code",
      "metadata": {
        "id": "TRDHmaedXTEm"
      },
      "source": [
        "# 8. Splitting the dataset intoTraining and Testing Data and Performing Regression\n",
        "\n",
        "#splitting the Dataset \n",
        "# Where,\n",
        "#  1. X and Y : Arrays\n",
        "#  2. test_sizefloat or int, default=None\n",
        "#           If float, should be between 0.0 and 1.0 and represent the proportion of the dataset to include in the test split.\n",
        "#           If int, represents the absolute number of test samples. \n",
        "#           If None, the value is set to the complement of the train size. If train_size is also None, it will be set to 0.25.\n",
        "#  3. random_state:Controls the shuffling applied to the data before applying the split. \n",
        "#                  Pass an int for reproducible output across multiple function calls"
      ],
      "execution_count": null,
      "outputs": []
    },
    {
      "cell_type": "code",
      "metadata": {
        "id": "azimpRNNXNeV"
      },
      "source": [
        "x_train ,x_test ,y_train ,y_test = train_test_split(X,Y,test_size=0.2,random_state=70)"
      ],
      "execution_count": 13,
      "outputs": []
    },
    {
      "cell_type": "markdown",
      "metadata": {
        "id": "seSeJolBZUzs"
      },
      "source": [
        "for checking shape of x_train,x_test,y_train & y_test"
      ]
    },
    {
      "cell_type": "code",
      "metadata": {
        "id": "QdJuYOzuZmwz",
        "colab": {
          "base_uri": "https://localhost:8080/"
        },
        "outputId": "c1d0ccbe-a469-4059-d255-c6bd8fb37372"
      },
      "source": [
        "print(x_train.shape)\n",
        "print(x_test.shape) \n",
        "print(y_train.shape) \n",
        "print(y_test.shape)"
      ],
      "execution_count": 14,
      "outputs": [
        {
          "output_type": "stream",
          "text": [
            "(20, 1)\n",
            "(5, 1)\n",
            "(20, 1)\n",
            "(5, 1)\n"
          ],
          "name": "stdout"
        }
      ]
    },
    {
      "cell_type": "markdown",
      "metadata": {
        "id": "5G0Q0AcrjqXm"
      },
      "source": [
        "#Performing Linear Regression"
      ]
    },
    {
      "cell_type": "code",
      "metadata": {
        "id": "rcAUX1f7ZPNL",
        "colab": {
          "base_uri": "https://localhost:8080/"
        },
        "outputId": "4a3ebc0e-f1ba-4d44-f983-b76d5469e45d"
      },
      "source": [
        "std_reg=LinearRegression()\n",
        "std_reg.fit(x_train,y_train)\n",
        "print(\"------------------------------ Model Training Completed -----------------------------------\")"
      ],
      "execution_count": 15,
      "outputs": [
        {
          "output_type": "stream",
          "text": [
            "------------------------------ Model Training Completed -----------------------------------\n"
          ],
          "name": "stdout"
        }
      ]
    },
    {
      "cell_type": "markdown",
      "metadata": {
        "id": "J3GtlwPskHah"
      },
      "source": [
        "#As model is Trained successfull .\n",
        "# Now , appling LR equation"
      ]
    },
    {
      "cell_type": "code",
      "metadata": {
        "colab": {
          "base_uri": "https://localhost:8080/",
          "height": 307
        },
        "id": "11zAVPIskJtd",
        "outputId": "82798293-43de-47b8-99af-28342d394354"
      },
      "source": [
        "lmodel=std_reg.coef_*X + std_reg.intercept_\n",
        "\n",
        "# Plotting the Regression Graph \n",
        "\n",
        "plt.scatter(X,Y, color='red')\n",
        "plt.plot(X,lmodel, c='green', lw=2)\n",
        "plt.title('After Regression ', fontsize=18)\n",
        "plt.xlabel('Hours', fontsize=15)\n",
        "plt.ylabel('Scores', fontsize=15)\n",
        "plt.show()"
      ],
      "execution_count": 16,
      "outputs": [
        {
          "output_type": "display_data",
          "data": {
            "image/png": "[encoded data removed]",
            "text/plain": [
              "<Figure size 432x288 with 1 Axes>"
            ]
          },
          "metadata": {
            "tags": [],
            "needs_background": "light"
          }
        }
      ]
    },
    {
      "cell_type": "markdown",
      "metadata": {
        "id": "rCTUEmJJlXDW"
      },
      "source": [
        "#As we see that Regression line is fitting the data in best way possible\n",
        "\n",
        "# 9. Predicting values with model and comparing with Observed Values/ Actual values\n",
        "\n",
        "# .predict(): predict the predicted value of data"
      ]
    },
    {
      "cell_type": "code",
      "metadata": {
        "colab": {
          "base_uri": "https://localhost:8080/",
          "height": 200
        },
        "id": "QY-CwPHej_Pe",
        "outputId": "531ab35d-4597-48de-9bee-324db7dd26c0"
      },
      "source": [
        "y_predict = std_reg.predict(x_test)\n",
        "\n",
        "# Creating Observed Score DataFrame \n",
        "\n",
        "df=pd.DataFrame(y_test,columns=['Observed Scores '])\n",
        "df\n",
        "df['Predicted Scores']=y_predict\n",
        "df"
      ],
      "execution_count": 17,
      "outputs": [
        {
          "output_type": "execute_result",
          "data": {
            "text/html": [
              "<div>\n",
              "<style scoped>\n",
              "    .dataframe tbody tr th:only-of-type {\n",
              "        vertical-align: middle;\n",
              "    }\n",
              "\n",
              "    .dataframe tbody tr th {\n",
              "        vertical-align: top;\n",
              "    }\n",
              "\n",
              "    .dataframe thead th {\n",
              "        text-align: right;\n",
              "    }\n",
              "</style>\n",
              "<table border=\"1\" class=\"dataframe\">\n",
              "  <thead>\n",
              "    <tr style=\"text-align: right;\">\n",
              "      <th></th>\n",
              "      <th>Observed Scores</th>\n",
              "      <th>Predicted Scores</th>\n",
              "    </tr>\n",
              "  </thead>\n",
              "  <tbody>\n",
              "    <tr>\n",
              "      <th>0</th>\n",
              "      <td>75</td>\n",
              "      <td>86.467686</td>\n",
              "    </tr>\n",
              "    <tr>\n",
              "      <th>1</th>\n",
              "      <td>85</td>\n",
              "      <td>78.395279</td>\n",
              "    </tr>\n",
              "    <tr>\n",
              "      <th>2</th>\n",
              "      <td>20</td>\n",
              "      <td>15.834124</td>\n",
              "    </tr>\n",
              "    <tr>\n",
              "      <th>3</th>\n",
              "      <td>24</td>\n",
              "      <td>19.870328</td>\n",
              "    </tr>\n",
              "    <tr>\n",
              "      <th>4</th>\n",
              "      <td>62</td>\n",
              "      <td>60.232363</td>\n",
              "    </tr>\n",
              "  </tbody>\n",
              "</table>\n",
              "</div>"
            ],
            "text/plain": [
              "   Observed Scores   Predicted Scores\n",
              "0                75         86.467686\n",
              "1                85         78.395279\n",
              "2                20         15.834124\n",
              "3                24         19.870328\n",
              "4                62         60.232363"
            ]
          },
          "metadata": {
            "tags": []
          },
          "execution_count": 17
        }
      ]
    },
    {
      "cell_type": "code",
      "metadata": {
        "colab": {
          "base_uri": "https://localhost:8080/",
          "height": 288
        },
        "id": "XkiQCmz3lnFO",
        "outputId": "07353e4d-efca-4962-bc88-e8b2248e3030"
      },
      "source": [
        "# Ploting test score against predited score \n",
        "\n",
        "plt.scatter(y_test,y_predict, color = 'red')\n",
        "plt.xlabel('Y_test Data(Expected)',fontsize=15)\n",
        "plt.ylabel('Y_predict Data(Prediction)',fontsize=15)\n",
        "plt.show()\n"
      ],
      "execution_count": 18,
      "outputs": [
        {
          "output_type": "display_data",
          "data": {
            "image/png": "[encoded data removed]",
            "text/plain": [
              "<Figure size 432x288 with 1 Axes>"
            ]
          },
          "metadata": {
            "tags": [],
            "needs_background": "light"
          }
        }
      ]
    },
    {
      "cell_type": "markdown",
      "metadata": {
        "id": "ZYYltzd5ly0p"
      },
      "source": [
        "# Now what will be the predicted score of student after studying 9.25 hr/day? \n",
        "# Predicting score of student if he/she study for 9.25 hr/day"
      ]
    },
    {
      "cell_type": "code",
      "metadata": {
        "colab": {
          "base_uri": "https://localhost:8080/"
        },
        "id": "W3EinT9dlz0c",
        "outputId": "203c823b-9abc-40bb-f2cf-e0bf626f3bdb"
      },
      "source": [
        "hours=[[9.25, ]]\n",
        "our_prediction=std_reg.predict(hours)\n",
        "\n",
        "print(\"------------Testing the Model on bases of Given Hours------------ \\n----------- HERE WE GET------------\")\n",
        "\n",
        "print(\"For Given Hours = {}\".format(hours))\n",
        "print(\"Predicted Score = {}\".format(our_prediction[0]))"
      ],
      "execution_count": 19,
      "outputs": [
        {
          "output_type": "stream",
          "text": [
            "------------Testing the Model on bases of Given Hours------------ \n",
            "----------- HERE WE GET------------\n",
            "For Given Hours = [[9.25]]\n",
            "Predicted Score = [94.03556733]\n"
          ],
          "name": "stdout"
        }
      ]
    },
    {
      "cell_type": "markdown",
      "metadata": {
        "id": "hz843UVsmLOX"
      },
      "source": [
        "\n",
        "# 10.Evaluation model\n",
        "\n",
        "# Calculating Root mean squared error"
      ]
    },
    {
      "cell_type": "code",
      "metadata": {
        "colab": {
          "base_uri": "https://localhost:8080/"
        },
        "id": "nNkJyeSamMcm",
        "outputId": "6059b9fa-f8e6-4755-f9d6-2a077ed62b50"
      },
      "source": [
        "from sklearn.metrics import mean_squared_error\n",
        "\n",
        "#mse= mean squared error\n",
        "\n",
        "mse =  mean_squared_error(y_test,y_predict)\n",
        "\n",
        "#rmse= root mean squared error\n",
        "\n",
        "rmse=np.sqrt(mse)\n",
        "print(mse)\n",
        "print(rmse)"
      ],
      "execution_count": 26,
      "outputs": [
        {
          "output_type": "stream",
          "text": [
            "42.53268217557492\n",
            "6.521708531939688\n"
          ],
          "name": "stdout"
        }
      ]
    },
    {
      "cell_type": "code",
      "metadata": {
        "colab": {
          "base_uri": "https://localhost:8080/"
        },
        "id": "q10FY5ytmwGo",
        "outputId": "a4e23849-51f1-4cd8-bf4a-8b105e5a0905"
      },
      "source": [
        "# Calculating Mean Absolute Error\n",
        "\n",
        "from sklearn.metrics import mean_absolute_error\n",
        "\n",
        "# mean= mean absolute error\n",
        "\n",
        "mean=mean_absolute_error(y_test,y_predict)\n",
        "print(\"Now, Mean Absolute Error->\" , mean)\n",
        "\n",
        "# Calculating R-squared \n",
        "print(\"R-2\", std_reg.score(x_test,y_test))\n"
      ],
      "execution_count": 41,
      "outputs": [
        {
          "output_type": "stream",
          "text": [
            "Now, Mean Absolute Error-> 5.627118338176114\n",
            "R-2 0.9395636549738904\n"
          ],
          "name": "stdout"
        }
      ]
    },
    {
      "cell_type": "markdown",
      "metadata": {
        "id": "SoSVI0z02xLr"
      },
      "source": [
        "R-2 gives the score of Model Fit and in this case 93.95% score of testing data indicates that above fitted Model is A GOOD MODEL"
      ]
    },
    {
      "cell_type": "markdown",
      "metadata": {
        "id": "NHkb2ued6Giw"
      },
      "source": [
        "Conclusion\n",
        "I was successfully able to carry-out Prediction using Supervised ML task and was able to evaluate the model's performance on various parameters.\n",
        "From the above Prediction Model, we can say that the Predicted Score if a student studies for 9.25 hours/day is 94.03\n",
        "Thank You"
      ]
    }
  ]
}